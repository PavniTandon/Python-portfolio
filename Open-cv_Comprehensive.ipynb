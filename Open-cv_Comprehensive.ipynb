{
 "cells": [
  {
   "cell_type": "code",
   "execution_count": 1,
   "metadata": {},
   "outputs": [],
   "source": [
    "import cv2 \n",
    "import time"
   ]
  },
  {
   "cell_type": "code",
   "execution_count": 3,
   "metadata": {},
   "outputs": [],
   "source": [
    "##IMAGE## \n",
    "gyan=cv2.imread(r'C:\\Users\\pavni\\OneDrive\\Desktop\\Tinkerer course\\Opencv-python-learn\\gyanam.png',1)\n",
    "\n",
    "#second argument can be \n",
    "#cv2.IMREAD_COLOR (==1 , default version) or \n",
    "#cv2.IMREAD_GRAYSCALE (== 0) or \n",
    "# cv2.IMREAD_UNCHANGED (== -1)\n",
    "cv2.imshow('IITB rocks',gyan)\n",
    "cv2.waitKey(100)  #waits for specified milliseconds for any keyboard event, 0 waits indefinitely for any keyboard stroke\n",
    "cv2.destroyAllWindows()\n",
    "#to destroy specific window use cv2.destroyWindow(exact_window_name)\n",
    "cv2.namedWindow('image', cv2.WINDOW_NORMAL)#this creates a window and loads image to it later, resizable\n",
    "cv2.waitKey(100)\n",
    "cv2.destroyAllWindows()\n",
    "#cv2.WINDOW_AUTOSIZE inplace of cv2.WINDOW_NORMAL is default\n",
    "cv2.imwrite(r'C:\\Users\\pavni\\OneDrive\\Desktop\\Tinkerer course\\Opencv-python-learn\\iit.png',gyan) #to save"
   ]
  },
  {
   "cell_type": "code",
   "execution_count": null,
   "metadata": {},
   "outputs": [],
   "source": [
    "##VIDEO CAPTURE##\n",
    "vid=cv2.VideoCapture(0) #if you have multiple webcams in the system then the 0,1,2 specifies the webcam to use\n",
    "while True:\n",
    "    returnn,frame=vid.read() #returnn returns true or false based on success\n",
    "    gray = cv2.cvtColor(frame, cv2.COLOR_BGR2GRAY) #cvtColor is used to convert the color \n",
    "    cv2.imshow('frame',gray)\n",
    "    if cv2.waitKey(1) == ord('q'):\n",
    "        break\n",
    "vid.release()\n",
    "destroyAllWindows()"
   ]
  },
  {
   "cell_type": "code",
   "execution_count": null,
   "metadata": {},
   "outputs": [],
   "source": [
    "import cv2\n",
    "import numpy as np\n",
    "\n",
    "cap = cv2.VideoCapture(0)\n",
    "\n",
    "while(1):\n",
    "\n",
    "    _, frame = cap.read()\n",
    "    hsv = cv2.cvtColor(frame, cv2.COLOR_BGR2HSV)\n",
    "    \n",
    "    lower_red = np.array([150,150,50])\n",
    "    upper_red = np.array([200,255,180])\n",
    "    \n",
    "    mask = cv2.inRange(hsv, lower_red, upper_red)\n",
    "    res = cv2.bitwise_and(frame,frame, mask= mask) \n",
    "    median = cv2.medianBlur(res,15) #15 is the kernel size\n",
    "    cv2.imshow('Median Blur',median)\n",
    "    cv2.imshow('Original',frame)\n",
    "    cv2.imshow('res',res)\n",
    "    \n",
    "\n",
    "    k = cv2.waitKey(5) & 0xFF\n",
    "    if k == 27:\n",
    "        break\n",
    "\n",
    "cv2.destroyAllWindows()\n",
    "cap.release()"
   ]
  },
  {
   "cell_type": "code",
   "execution_count": 4,
   "metadata": {},
   "outputs": [],
   "source": [
    "import cv2\n",
    "import numpy as np\n",
    "\n",
    "cap = cv2.VideoCapture(0)\n",
    "\n",
    "while(1):\n",
    "\n",
    "    _, frame = cap.read()\n",
    "    hsv = cv2.cvtColor(frame, cv2.COLOR_BGR2HSV)\n",
    "    \n",
    "    lower_red = np.array([0,58,30])\n",
    "    upper_red = np.array([33,255,255])\n",
    "    \n",
    "    mask = cv2.inRange(hsv, lower_red, upper_red)\n",
    "    res = cv2.bitwise_and(frame,frame, mask= mask)\n",
    "    bilateral = cv2.bilateralFilter(res,15,75,75)\n",
    "    cv2.imshow('bilateral Blur',bilateral)\n",
    "    cv2.imshow('Original',frame)\n",
    "    cv2.imshow('res',res)\n",
    "    \n",
    "\n",
    "    k = cv2.waitKey(5) & 0xFF\n",
    "    if k == 27:\n",
    "        break\n",
    "\n",
    "cv2.destroyAllWindows()\n",
    "cap.release()"
   ]
  },
  {
   "cell_type": "code",
   "execution_count": null,
   "metadata": {},
   "outputs": [],
   "source": []
  }
 ],
 "metadata": {
  "kernelspec": {
   "display_name": "Python 3",
   "language": "python",
   "name": "python3"
  },
  "language_info": {
   "codemirror_mode": {
    "name": "ipython",
    "version": 3
   },
   "file_extension": ".py",
   "mimetype": "text/x-python",
   "name": "python",
   "nbconvert_exporter": "python",
   "pygments_lexer": "ipython3",
   "version": "3.7.6"
  }
 },
 "nbformat": 4,
 "nbformat_minor": 4
}
