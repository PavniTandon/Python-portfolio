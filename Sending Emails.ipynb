{
 "cells": [
  {
   "cell_type": "code",
   "execution_count": 4,
   "metadata": {},
   "outputs": [
    {
     "name": "stdout",
     "output_type": "stream",
     "text": [
      "all good boss! msg sent!!\n"
     ]
    }
   ],
   "source": [
    "import smtplib\n",
    "from email.message import EmailMessage\n",
    "email=EmailMessage()\n",
    "email['from']= \"Master\"\n",
    "#write the desired email  USE WITH CARE!\n",
    "email['to']='xxx@xxx.com' \n",
    "email['subject']='You won 10000 dollars!'\n",
    "email.set_content('Hey :) Hope you are doing well in these quarantine times. Don\\'t open these spammy mails ;)')\n",
    "\n",
    "with smtplib.SMTP(host='smtp.gmail.com',port=587) as smtp:\n",
    "    smtp.ehlo()\n",
    "    smtp.starttls()\n",
    "    smtp.login('xxx@xxx.com','****') #write your own email and password here!!\n",
    "    #smtp.send_message(email)\n",
    "    print('all good boss! msg sent!!')"
   ]
  },
  {
   "cell_type": "code",
   "execution_count": null,
   "metadata": {},
   "outputs": [],
   "source": [
    "#To send an html file\n",
    "from string import Template\n",
    "from pathlib import Path\n",
    "html=Template(Path('file_name.html').read_text())\n",
    "email=EmailMessage()\n",
    ".\n",
    ".\n",
    ".\n",
    "email.set_content(html.substitue({'name':'TinTin'}),'html').\n",
    ".\n",
    ".\n",
    ".\n",
    "#rest same"
   ]
  },
  {
   "cell_type": "code",
   "execution_count": null,
   "metadata": {},
   "outputs": [],
   "source": []
  }
 ],
 "metadata": {
  "kernelspec": {
   "display_name": "Python 3",
   "language": "python",
   "name": "python3"
  },
  "language_info": {
   "codemirror_mode": {
    "name": "ipython",
    "version": 3
   },
   "file_extension": ".py",
   "mimetype": "text/x-python",
   "name": "python",
   "nbconvert_exporter": "python",
   "pygments_lexer": "ipython3",
   "version": "3.7.6"
  }
 },
 "nbformat": 4,
 "nbformat_minor": 4
}
