{
 "cells": [
  {
   "cell_type": "code",
   "execution_count": 5,
   "metadata": {},
   "outputs": [
    {
     "name": "stdout",
     "output_type": "stream",
     "text": [
      "<Response [400]>\n"
     ]
    }
   ],
   "source": [
    "import requests\n",
    "url='https://api.pwnedpasswords.com/range/'+'GHTSY'\n",
    "res=requests.get(url)\n",
    "print(res)"
   ]
  },
  {
   "cell_type": "code",
   "execution_count": 6,
   "metadata": {},
   "outputs": [
    {
     "name": "stdout",
     "output_type": "stream",
     "text": [
      "fghjn\n",
      "<Response [200]>\n",
      "fghjn was found 5 times. You should change your password!\n"
     ]
    },
    {
     "data": {
      "text/plain": [
       "'done'"
      ]
     },
     "execution_count": 6,
     "metadata": {},
     "output_type": "execute_result"
    }
   ],
   "source": [
    "import requests\n",
    "import hashlib\n",
    "\n",
    "def request_api_data(query_char):\n",
    "    url='https://api.pwnedpasswords.com/range/'+query_char\n",
    "    res=requests.get(url)\n",
    "    if res.status_code != 200:\n",
    "        raise RuntimeError (f'Error fetching: {res.status_code},check the api')\n",
    "    return res\n",
    "\n",
    "def get_password_leaks(hashes,hashes_to_check):\n",
    "    hashes=(line.split(':') for line in hashes.text.splitlines())\n",
    "    for h,count in hashes:\n",
    "        if h==hashes_to_check:\n",
    "            return count  #if input matches with the database\n",
    "    return 0\n",
    "    \n",
    "def pwned_api_check(password):\n",
    "    sha1password=hashlib.sha1(password.encode('utf-8')).hexdigest().upper()\n",
    "    first_fivechar,tail=sha1password[:5],sha1password[5:]\n",
    "    response=request_api_data(first_fivechar)\n",
    "    print(response)\n",
    "    return get_password_leaks(response,tail)\n",
    "\n",
    "\n",
    "def main(inputs):\n",
    "    for char in inputs:\n",
    "        count=pwned_api_check(char)\n",
    "        if count:\n",
    "            print(f'{char} was found {count} times. You should change your password!')\n",
    "        else:\n",
    "            print(f'{char} was not found. Your password is secure. Carry on!')\n",
    "    return 'done'\n",
    "\n",
    "inputs=[x for x in input().split(' ')]\n",
    "main(inputs)\n",
    "\n"
   ]
  },
  {
   "cell_type": "code",
   "execution_count": null,
   "metadata": {},
   "outputs": [],
   "source": []
  },
  {
   "cell_type": "code",
   "execution_count": null,
   "metadata": {},
   "outputs": [],
   "source": []
  }
 ],
 "metadata": {
  "kernelspec": {
   "display_name": "Python 3",
   "language": "python",
   "name": "python3"
  },
  "language_info": {
   "codemirror_mode": {
    "name": "ipython",
    "version": 3
   },
   "file_extension": ".py",
   "mimetype": "text/x-python",
   "name": "python",
   "nbconvert_exporter": "python",
   "pygments_lexer": "ipython3",
   "version": "3.7.6"
  }
 },
 "nbformat": 4,
 "nbformat_minor": 4
}
